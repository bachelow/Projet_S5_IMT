{
 "cells": [
  {
   "cell_type": "code",
   "execution_count": 5,
   "metadata": {
    "collapsed": true
   },
   "outputs": [],
   "source": [
    "import numpy as np\n",
    "import pandas as pd\n",
    "\n",
    "%matplotlib inline \n",
    "import matplotlib.pyplot as plt\n",
    "\n",
    "import datetime\n",
    "from datetime import datetime, date, time\n",
    "\n",
    "import time\n",
    "\n",
    "from sklearn import svm\n",
    "from sklearn import datasets"
   ]
  },
  {
   "cell_type": "code",
   "execution_count": 6,
   "metadata": {
    "collapsed": true
   },
   "outputs": [],
   "source": [
    "\n",
    "\n",
    "scenarios = ['Entrainement' ,'Facile', 'Difficile']\n",
    " \n",
    "    \n",
    "HRV_clean = pd.DataFrame()\n",
    "HRV = pd.DataFrame()\n",
    "Diam_Right_clean = pd.DataFrame()\n",
    "Diam_Left_clean = pd.DataFrame()\n",
    "total = pd.DataFrame()\n",
    "\n",
    "    \n",
    "for scenario in scenarios:\n",
    "    filename_HRV = 'S5/Sujet1/Sujet1_'+ scenario +'_RecCSVFile/HRV.csv'\n",
    "    filename_pupleft = 'S5/Sujet1/Sujet1_'+ scenario +'_RecCSVFile/Eye1.csv'\n",
    "    filename_pupright = 'S5/Sujet1/Sujet1_'+ scenario +'_RecCSVFile/Eye2.csv'\n",
    "\n",
    "    files = [filename_HRV, filename_pupleft, filename_pupright]\n",
    "\n",
    "    for filename in files: \n",
    "\n",
    "        file = pd.read_csv(filename, sep = ';')\n",
    "        \n",
    "\n",
    "        \n",
    "        file['Timestamp'] = file[file.columns[0]] \n",
    "         \n",
    "        file['scenario'] = scenario\n",
    "        \n",
    "        if filename == filename_HRV: \n",
    "            V = []\n",
    "            file['HRV'] = file[file.columns[1]] \n",
    "            file = file.drop(file.columns[1],1)\n",
    "            file.index = np.arange(1,len(file)+1)\n",
    "            HRV = pd.concat([HRV, file])\n",
    "\n",
    "            for i in range(1,len(file), 50): \n",
    "                V.append(i)\n",
    "            for i in file.index: \n",
    "                if i not in V : \n",
    "                    file = file.drop(i,0)\n",
    "\n",
    "\n",
    "            mask = file['HRV']==-1\n",
    "            file = file[~mask]\n",
    "\n",
    "\n",
    "            mean = file['HRV'].mean()\n",
    "            standard_dev = file['HRV'].std()\n",
    "\n",
    "            L = [mean, standard_dev, scenario]\n",
    "           \n",
    "            \n",
    "            HRV_clean = pd.concat([HRV_clean, file])\n",
    "\n",
    "\n",
    "\n",
    "        elif filename == filename_pupleft : \n",
    "            file['Diam Occ Left'] = file[file.columns[1]] \n",
    "            file = file.drop(file.columns[1],1)\n",
    "            mask = file['Diam Occ Left'] ==0\n",
    "            file = file[~mask] \n",
    "            mean = file['Diam Occ Left'].mean()\n",
    "            standard_dev = file['Diam Occ Left'].std()\n",
    "\n",
    "            M = [mean, standard_dev, scenario]\n",
    "\n",
    "            \n",
    "            \n",
    "            Diam_Left_clean = pd.concat([Diam_Left_clean, file])\n",
    "\n",
    "\n",
    "        else : \n",
    "            \n",
    "            file['Diam Occ Right'] = file[file.columns[1]] \n",
    "            file = file.drop(file.columns[1],1)\n",
    "            mask = file['Diam Occ Right'] ==0\n",
    "            file = file[~mask] \n",
    "            mean = file['Diam Occ Right'].mean()\n",
    "            standard_dev = file['Diam Occ Right'].std()\n",
    "\n",
    "            N = [mean, standard_dev, scenario]\n",
    "            Diam_Right_clean = pd.concat([Diam_Right_clean, file])\n",
    "\n",
    "\n",
    "    final = pd.DataFrame([L, M, N],columns = ['Mean', 'Standard Deviation', 'Scenario'] , index = ['HRV', 'Diam Occ Left', 'Diam Occ Right'])\n",
    "    total = pd.concat([total, final])\n"
   ]
  },
  {
   "cell_type": "code",
   "execution_count": 7,
   "metadata": {
    "collapsed": true
   },
   "outputs": [],
   "source": [
    "HRV_clean['HRV centré'] = (HRV_clean['HRV'] -final['Mean']['HRV'])/final['Standard Deviation']['HRV']\n",
    "Diam_Right_clean['Diam Occ Right centré'] = (Diam_Right_clean['Diam Occ Right'] -final['Mean']['Diam Occ Right'])/final['Standard Deviation']['Diam Occ Right']\n",
    "Diam_Left_clean['Diam Occ Left centré'] = (Diam_Left_clean['Diam Occ Left'] -final['Mean']['Diam Occ Left'])/final['Standard Deviation']['Diam Occ Left']\n",
    "\n"
   ]
  },
  {
   "cell_type": "code",
   "execution_count": 8,
   "metadata": {
    "collapsed": true
   },
   "outputs": [],
   "source": [
    "HRV_new = HRV\n",
    "HRV_clean_final = HRV_clean\n",
    "PupRight = Diam_Left_clean\n",
    "PupLeft = Diam_Right_clean\n"
   ]
  },
  {
   "cell_type": "code",
   "execution_count": 9,
   "metadata": {
    "collapsed": true
   },
   "outputs": [],
   "source": [
    "\n",
    "V = HRV_new.columns\n",
    "J = HRV_clean_final.columns\n",
    "S = PupRight.columns\n",
    "T = PupLeft.columns\n",
    "\n",
    "for i in range(3):\n",
    "    HRV_new = HRV_new.drop(V[i], 1)\n",
    "    HRV_clean_final = HRV_clean_final.drop(J[i], 1)\n",
    "    PupRight = PupRight.drop(S[i], 1)\n",
    "    PupLeft = PupLeft.drop(T[i], 1)\n",
    "    \n",
    "        \n",
    "\n"
   ]
  },
  {
   "cell_type": "code",
   "execution_count": 17,
   "metadata": {
    "collapsed": true
   },
   "outputs": [],
   "source": [
    "HRV_data = HRV_clean_final['HRV']\n",
    "Time = HRV_clean_final['Timestamp'].values"
   ]
  }
 ],
 "metadata": {
  "kernelspec": {
   "display_name": "Python 3",
   "language": "python",
   "name": "python3"
  },
  "language_info": {
   "codemirror_mode": {
    "name": "ipython",
    "version": 3
   },
   "file_extension": ".py",
   "mimetype": "text/x-python",
   "name": "python",
   "nbconvert_exporter": "python",
   "pygments_lexer": "ipython3",
   "version": "3.6.2"
  }
 },
 "nbformat": 4,
 "nbformat_minor": 2
}
