{
 "cells": [
  {
   "cell_type": "code",
   "execution_count": 49,
   "metadata": {
    "collapsed": true
   },
   "outputs": [],
   "source": [
    "import numpy as np\n",
    "import pandas as pd\n",
    "\n",
    "%matplotlib inline \n",
    "import matplotlib.pyplot as plt\n",
    "\n",
    "import datetime\n",
    "from datetime import datetime, date, time\n",
    "\n",
    "import time"
   ]
  },
  {
   "cell_type": "code",
   "execution_count": 50,
   "metadata": {},
   "outputs": [],
   "source": [
    "\n",
    "filename_HRV = 'S5/Facelog_Wed_Jan_30_2019_10_11_31/2019_01_30__10_04_12_Summary.csv'\n",
    "\n",
    "\n",
    "#filename_pupleft = 'S5/20190129_160827_RecCSVFile/RecCSVFile_20190129_160827_resampler_9_output_2.csv'\n",
    "#filename_pupright = 'S5/20190129_160827_RecCSVFile/RecCSVFile_20190129_160827_resampler_9_output_3.csv'\n",
    "\n",
    "file_pup = 'S5/Facelog_Wed_Jan_30_2019_10_11_31/Eye_Wed_Jan_30_2019_10_11_31.csv'\n",
    "\n",
    "\n",
    "files = [filename_HRV,file_pup ]\n",
    "\n",
    "for filename in files: \n",
    "    \n",
    "    file = pd.read_csv(filename, sep = ',')\n",
    "    \n",
    "\n",
    "    file['Timestamp'] = file[file.columns[0]] \n",
    "    \n",
    "    if filename == filename_HRV: \n",
    "        mask = file['HRV']==-1\n",
    "        file = file[~mask]\n",
    "        \n",
    "        mask = file['HRV']==0\n",
    "        file = file[~mask]   \n",
    "\n",
    "        mask = file['HRV']>200\n",
    "        file = file[~mask] \n",
    "        \n",
    "        mean = file['HRV'].mean()\n",
    "        standard_dev = file['HRV'].std()\n",
    "        \n",
    "        L = [mean, standard_dev]\n",
    "        \n",
    "        HRV_clean = file\n",
    "  \n",
    "    else : \n",
    "        mask = file['PUPIL_R_DIAM']==0\n",
    "        filepup = file[~mask]\n",
    "                \n",
    "        mean = filepup['PUPIL_R_DIAM'].mean()\n",
    "        standard_dev = filepup['PUPIL_R_DIAM'].std()\n",
    "        \n",
    "        M = [mean, standard_dev]\n",
    "        \n",
    "        mask = file['PUPIL_L_DIAM']==0\n",
    "        filepup2 = file[~mask]\n",
    "                \n",
    "        mean = filepup2['PUPIL_R_DIAM'].mean()\n",
    "        standard_dev = filepup2['PUPIL_R_DIAM'].std()\n",
    "        \n",
    "        N = [mean, standard_dev]\n",
    "        \n",
    "        Eye_clean = file\n",
    "    \n",
    "        \n",
    "final = pd.DataFrame([L, M, N],columns = ['Mean', 'Standard Deviation'] , index = ['HRV', 'Diam Right' ,'Diam Left'])\n",
    "    "
   ]
  },
  {
   "cell_type": "code",
   "execution_count": 52,
   "metadata": {},
   "outputs": [],
   "source": [
    "final.to_csv('Baseline.csv')"
   ]
  },
  {
   "cell_type": "code",
   "execution_count": null,
   "metadata": {
    "collapsed": true
   },
   "outputs": [],
   "source": [
    "HRV_clean['HRV centré'] = (HRV_clean['HRV'] -final['Mean']['HRV'])/final['Standard Deviation']['HRV']\n",
    "\n",
    "Eye_clean['Diam Occ Right centré'] = (Eye_clean['PUPIL_R_DIAM'] -final['Mean']['Diam Right'])/final['Standard Deviation']['Diam Right']\n",
    "\n",
    "\n",
    "Eye_clean['Diam Occ Left centré'] = (Eye_clean['PUPIL_L_DIAM'] -final['Mean']['Diam Left'])/final['Standard Deviation']['Diam Left']\n",
    "\n",
    "\n",
    "\n",
    "\n",
    "\n",
    "\n",
    "\n",
    "\n"
   ]
  }
 ],
 "metadata": {
  "kernelspec": {
   "display_name": "Python 3",
   "language": "python",
   "name": "python3"
  },
  "language_info": {
   "codemirror_mode": {
    "name": "ipython",
    "version": 3
   },
   "file_extension": ".py",
   "mimetype": "text/x-python",
   "name": "python",
   "nbconvert_exporter": "python",
   "pygments_lexer": "ipython3",
   "version": "3.6.2"
  }
 },
 "nbformat": 4,
 "nbformat_minor": 2
}
