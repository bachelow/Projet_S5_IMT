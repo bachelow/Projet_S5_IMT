{
 "cells": [
  {
   "cell_type": "code",
   "execution_count": 166,
   "metadata": {
    "collapsed": true
   },
   "outputs": [],
   "source": [
    "import numpy as np\n",
    "import pandas as pd\n",
    "\n",
    "%matplotlib inline \n",
    "import matplotlib.pyplot as plt\n",
    "\n",
    "import datetime\n",
    "from datetime import datetime, date, time\n",
    "\n",
    "import time"
   ]
  },
  {
   "cell_type": "code",
   "execution_count": 176,
   "metadata": {},
   "outputs": [],
   "source": [
    "\n",
    "filename_HRV = 'S5/20190129_160827_RecCSVFile/RecCSVFile_20190129_160827_resampler_9_output_1.csv'\n",
    "filename_pupleft = 'S5/20190129_160827_RecCSVFile/RecCSVFile_20190129_160827_resampler_9_output_2.csv'\n",
    "filename_pupright = 'S5/20190129_160827_RecCSVFile/RecCSVFile_20190129_160827_resampler_9_output_3.csv'\n",
    "\n",
    "files = [filename_HRV, filename_pupleft, filename_pupright]\n",
    "\n",
    "for filename in files: \n",
    "    \n",
    "    file = pd.read_csv(filename, sep = ';')\n",
    "    \n",
    "\n",
    "    file['Timestamp'] = file[file.columns[0]] \n",
    "    \n",
    "    if filename == filename_HRV: \n",
    "        file['HRV'] = file[file.columns[1]] \n",
    "        file.index = np.arange(1,len(file)+1)\n",
    "        for i in range(1,len(file), 50): \n",
    "            V.append(i)\n",
    "        for i in file.index: \n",
    "            if i not in V : \n",
    "                file = file.drop(i,0)\n",
    "            \n",
    "            \n",
    "        mask = file['HRV']==-1\n",
    "        file = file[~mask]\n",
    "        \n",
    " \n",
    "        mean = file['HRV'].mean()\n",
    "        standard_dev = file['HRV'].std()\n",
    "        \n",
    "        L = [mean, standard_dev]\n",
    "        HRV_clean = file\n",
    "        \n",
    "        \n",
    "  \n",
    "        \n",
    "    elif filename == filename_pupleft : \n",
    "        file['Diam Occ Left'] = file[file.columns[1]] \n",
    "        mask = file['Diam Occ Left'] ==0\n",
    "        file = file[~mask] \n",
    "        mean = file['Diam Occ Left'].mean()\n",
    "        standard_dev = file['Diam Occ Left'].std()\n",
    "        \n",
    "        M = [mean, standard_dev]\n",
    "        \n",
    "        Diam_Left_clean = file\n",
    "\n",
    "            \n",
    "    else : \n",
    "        file['Diam Occ Right'] = file[file.columns[1]] \n",
    "        mask = file['Diam Occ Right'] ==0\n",
    "        file = file[~mask] \n",
    "        mean = file['Diam Occ Right'].mean()\n",
    "        standard_dev = file['Diam Occ Right'].std()\n",
    "        \n",
    "        N = [mean, standard_dev]\n",
    "        Diam_Right_clean = file\n",
    " \n",
    "        \n",
    "final = pd.DataFrame([L, M, N],columns = ['Mean', 'Standard Deviation'] , index = ['HRV', 'Diam Occ Left', 'Diam Occ Right'])\n",
    "    "
   ]
  },
  {
   "cell_type": "code",
   "execution_count": 168,
   "metadata": {},
   "outputs": [],
   "source": [
    "final.to_csv('Mean-Std-data.csv')"
   ]
  },
  {
   "cell_type": "code",
   "execution_count": 177,
   "metadata": {},
   "outputs": [
    {
     "data": {
      "text/html": [
       "<div>\n",
       "<style>\n",
       "    .dataframe thead tr:only-child th {\n",
       "        text-align: right;\n",
       "    }\n",
       "\n",
       "    .dataframe thead th {\n",
       "        text-align: left;\n",
       "    }\n",
       "\n",
       "    .dataframe tbody tr th {\n",
       "        vertical-align: top;\n",
       "    }\n",
       "</style>\n",
       "<table border=\"1\" class=\"dataframe\">\n",
       "  <thead>\n",
       "    <tr style=\"text-align: right;\">\n",
       "      <th></th>\n",
       "      <th>Mean</th>\n",
       "      <th>Standard Deviation</th>\n",
       "    </tr>\n",
       "  </thead>\n",
       "  <tbody>\n",
       "    <tr>\n",
       "      <th>HRV</th>\n",
       "      <td>67.815789</td>\n",
       "      <td>7.510133</td>\n",
       "    </tr>\n",
       "    <tr>\n",
       "      <th>Diam Occ Left</th>\n",
       "      <td>0.004775</td>\n",
       "      <td>0.000727</td>\n",
       "    </tr>\n",
       "    <tr>\n",
       "      <th>Diam Occ Right</th>\n",
       "      <td>0.004679</td>\n",
       "      <td>0.000620</td>\n",
       "    </tr>\n",
       "  </tbody>\n",
       "</table>\n",
       "</div>"
      ],
      "text/plain": [
       "                     Mean  Standard Deviation\n",
       "HRV             67.815789            7.510133\n",
       "Diam Occ Left    0.004775            0.000727\n",
       "Diam Occ Right   0.004679            0.000620"
      ]
     },
     "execution_count": 177,
     "metadata": {},
     "output_type": "execute_result"
    }
   ],
   "source": [
    "final"
   ]
  },
  {
   "cell_type": "code",
   "execution_count": null,
   "metadata": {
    "collapsed": true
   },
   "outputs": [],
   "source": [
    "#centrée réduite\n"
   ]
  },
  {
   "cell_type": "code",
   "execution_count": 179,
   "metadata": {},
   "outputs": [],
   "source": [
    "HRV_clean['HRV centré'] = (HRV_clean['HRV'] -final['Mean']['HRV'])/final['Standard Deviation']['HRV']\n",
    "\n",
    "Diam_Right_clean['Diam Occ Right centré'] = (Diam_Right_clean['Diam Occ Right'] -final['Mean']['Diam Occ Right'])/final['Standard Deviation']['Diam Occ Right']\n",
    "Diam_Left_clean['Diam Occ Left centré'] = (Diam_Left_clean['Diam Occ Left'] -final['Mean']['Diam Occ Left'])/final['Standard Deviation']['Diam Occ Left']"
   ]
  },
  {
   "cell_type": "code",
   "execution_count": 181,
   "metadata": {},
   "outputs": [],
   "source": [
    "\n"
   ]
  },
  {
   "cell_type": "code",
   "execution_count": 191,
   "metadata": {},
   "outputs": [
    {
     "data": {
      "text/plain": [
       "[<matplotlib.lines.Line2D at 0x10a573f60>]"
      ]
     },
     "execution_count": 191,
     "metadata": {},
     "output_type": "execute_result"
    },
    {
     "data": {
      "image/png": "[encoded data removed]",
      "text/plain": [
       "<matplotlib.figure.Figure at 0x1084195c0>"
      ]
     },
     "metadata": {},
     "output_type": "display_data"
    }
   ],
   "source": [
    "plt.plot(HRV_clean['HRV centré'].unique())"
   ]
  },
  {
   "cell_type": "code",
   "execution_count": 194,
   "metadata": {},
   "outputs": [
    {
     "data": {
      "text/plain": [
       "[<matplotlib.lines.Line2D at 0x10d3892b0>]"
      ]
     },
     "execution_count": 194,
     "metadata": {},
     "output_type": "execute_result"
    },
    {
     "data": {
      "image/png": "[encoded data removed]",
      "text/plain": [
       "<matplotlib.figure.Figure at 0x10811b550>"
      ]
     },
     "metadata": {},
     "output_type": "display_data"
    }
   ],
   "source": [
    "plt.plot(Diam_Left_clean['Diam Occ Left centré'].unique())"
   ]
  },
  {
   "cell_type": "code",
   "execution_count": null,
   "metadata": {
    "collapsed": true
   },
   "outputs": [],
   "source": []
  }
 ],
 "metadata": {
  "kernelspec": {
   "display_name": "Python 3",
   "language": "python",
   "name": "python3"
  },
  "language_info": {
   "codemirror_mode": {
    "name": "ipython",
    "version": 3
   },
   "file_extension": ".py",
   "mimetype": "text/x-python",
   "name": "python",
   "nbconvert_exporter": "python",
   "pygments_lexer": "ipython3",
   "version": "3.6.2"
  }
 },
 "nbformat": 4,
 "nbformat_minor": 2
}
